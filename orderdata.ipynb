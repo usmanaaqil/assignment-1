{
  "cells": [
    {
      "cell_type": "markdown",
      "metadata": {
        "id": "view-in-github",
        "colab_type": "text"
      },
      "source": [
        "<a href=\"https://colab.research.google.com/github/usmanaaqil/assignment-1/blob/main/orderdata.ipynb\" target=\"_parent\"><img src=\"https://colab.research.google.com/assets/colab-badge.svg\" alt=\"Open In Colab\"/></a>"
      ]
    },
    {
      "cell_type": "code",
      "execution_count": null,
      "metadata": {
        "id": "J8qFjOPO_g9l",
        "outputId": "c155196c-891c-4a75-db6e-cdba59b9ca32"
      },
      "outputs": [
        {
          "name": "stdout",
          "output_type": "stream",
          "text": [
            "Requirement already satisfied: kaggle in c:\\users\\admin\\appdata\\local\\programs\\python\\python312\\lib\\site-packages (1.6.17)\n",
            "Requirement already satisfied: six>=1.10 in c:\\users\\admin\\appdata\\roaming\\python\\python312\\site-packages (from kaggle) (1.17.0)\n",
            "Requirement already satisfied: certifi>=2023.7.22 in c:\\users\\admin\\appdata\\local\\programs\\python\\python312\\lib\\site-packages (from kaggle) (2025.1.31)\n",
            "Requirement already satisfied: python-dateutil in c:\\users\\admin\\appdata\\roaming\\python\\python312\\site-packages (from kaggle) (2.9.0.post0)\n",
            "Requirement already satisfied: requests in c:\\users\\admin\\appdata\\local\\programs\\python\\python312\\lib\\site-packages (from kaggle) (2.32.3)\n",
            "Requirement already satisfied: tqdm in c:\\users\\admin\\appdata\\local\\programs\\python\\python312\\lib\\site-packages (from kaggle) (4.67.1)\n",
            "Requirement already satisfied: python-slugify in c:\\users\\admin\\appdata\\local\\programs\\python\\python312\\lib\\site-packages (from kaggle) (8.0.4)\n",
            "Requirement already satisfied: urllib3 in c:\\users\\admin\\appdata\\local\\programs\\python\\python312\\lib\\site-packages (from kaggle) (2.3.0)\n",
            "Requirement already satisfied: bleach in c:\\users\\admin\\appdata\\local\\programs\\python\\python312\\lib\\site-packages (from kaggle) (6.2.0)\n",
            "Requirement already satisfied: webencodings in c:\\users\\admin\\appdata\\local\\programs\\python\\python312\\lib\\site-packages (from bleach->kaggle) (0.5.1)\n",
            "Requirement already satisfied: text-unidecode>=1.3 in c:\\users\\admin\\appdata\\local\\programs\\python\\python312\\lib\\site-packages (from python-slugify->kaggle) (1.3)\n",
            "Requirement already satisfied: charset-normalizer<4,>=2 in c:\\users\\admin\\appdata\\local\\programs\\python\\python312\\lib\\site-packages (from requests->kaggle) (3.4.1)\n",
            "Requirement already satisfied: idna<4,>=2.5 in c:\\users\\admin\\appdata\\local\\programs\\python\\python312\\lib\\site-packages (from requests->kaggle) (3.10)\n",
            "Requirement already satisfied: colorama in c:\\users\\admin\\appdata\\roaming\\python\\python312\\site-packages (from tqdm->kaggle) (0.4.6)\n"
          ]
        },
        {
          "name": "stderr",
          "output_type": "stream",
          "text": [
            "\n",
            "[notice] A new release of pip is available: 24.3.1 -> 25.0.1\n",
            "[notice] To update, run: python.exe -m pip install --upgrade pip\n"
          ]
        }
      ],
      "source": [
        "!pip install kaggle"
      ]
    },
    {
      "cell_type": "code",
      "execution_count": null,
      "metadata": {
        "id": "uA_ANrkc_g9o",
        "outputId": "69338643-fddc-4db1-efc2-5b4c0bea80cf"
      },
      "outputs": [
        {
          "name": "stdout",
          "output_type": "stream",
          "text": [
            "Dataset URL: https://www.kaggle.com/datasets/ankitbansal06/retail-orders\n",
            "License(s): CC0-1.0\n",
            "orders.csv.zip: Skipping, found more recently modified local copy (use --force to force download)\n"
          ]
        }
      ],
      "source": [
        "!kaggle datasets download ankitbansal06/retail-orders -f orders.csv"
      ]
    },
    {
      "cell_type": "code",
      "execution_count": null,
      "metadata": {
        "id": "23r5c2pJ_g9o"
      },
      "outputs": [],
      "source": [
        "import pandas as pd"
      ]
    },
    {
      "cell_type": "code",
      "execution_count": null,
      "metadata": {
        "id": "idYVMKj5_g9q"
      },
      "outputs": [],
      "source": [
        "df = pd.read_csv(\"orders.csv\")"
      ]
    },
    {
      "cell_type": "code",
      "execution_count": null,
      "metadata": {
        "id": "hV-uAeaY_g9r"
      },
      "outputs": [],
      "source": [
        "df.columns = df.columns.str.strip().str.lower().str.replace(\" \", \"_\")\n",
        "df.to_csv('D:/python/orders.csv')"
      ]
    },
    {
      "cell_type": "code",
      "execution_count": null,
      "metadata": {
        "id": "4HfTfQmS_g9s"
      },
      "outputs": [],
      "source": [
        "df=pd.read_csv('D:/python/orders.csv',na_values=['Not Available','unknown'])"
      ]
    },
    {
      "cell_type": "code",
      "execution_count": null,
      "metadata": {
        "id": "LLROCp-B_g9s"
      },
      "outputs": [],
      "source": [
        "df['ship_mode'].unique()\n",
        "df.fillna({\"discount\": 0, \"profit\": 0}, inplace=True)"
      ]
    },
    {
      "cell_type": "code",
      "execution_count": null,
      "metadata": {
        "id": "1mx8cnCE_g9t"
      },
      "outputs": [],
      "source": [
        "df[\"discount\"] = (df[\"list_price\"] * df[\"discount_percent\"]) / 100"
      ]
    },
    {
      "cell_type": "code",
      "execution_count": null,
      "metadata": {
        "id": "IEtbvUGL_g9u"
      },
      "outputs": [],
      "source": [
        "df[\"sale_price\"] = df[\"list_price\"] - df[\"discount\"]"
      ]
    },
    {
      "cell_type": "code",
      "execution_count": null,
      "metadata": {
        "id": "vyxu14cz_g9v"
      },
      "outputs": [],
      "source": [
        "df[\"profit\"] = (df[\"sale_price\"] - df[\"cost_price\"]) * df[\"quantity\"]"
      ]
    },
    {
      "cell_type": "code",
      "execution_count": null,
      "metadata": {
        "id": "GS9cWMjN_g9w"
      },
      "outputs": [],
      "source": [
        "df['order_date']=pd.to_datetime(df['order_date'],format=\"%Y-%m-%d\")"
      ]
    },
    {
      "cell_type": "code",
      "execution_count": null,
      "metadata": {
        "id": "3RJPTKik_g9x"
      },
      "outputs": [],
      "source": [
        "df['order_date']=pd.to_datetime(df['order_date'],format=\"%Y-%m-%d\")"
      ]
    },
    {
      "cell_type": "code",
      "execution_count": null,
      "metadata": {
        "id": "EIM7NMTc_g9x"
      },
      "outputs": [],
      "source": [
        "orders_table = df[[\"order_id\", \"order_date\", \"ship_mode\", \"segment\", \"country\", \"city\", \"state\", \"postal_code\", \"region\"]]\n",
        "products_table = df[[\"order_id\", \"product_id\", \"category\", \"sub_category\", \"cost_price\", \"list_price\", \"quantity\", \"discount_percent\", \"discount\", \"sale_price\", \"profit\"]]"
      ]
    },
    {
      "cell_type": "code",
      "execution_count": null,
      "metadata": {
        "id": "QTMmv95B_g9x"
      },
      "outputs": [],
      "source": [
        "orders_table.to_csv(\"orders_table.csv\", index=False)\n",
        "products_table.to_csv(\"products_table.csv\", index=False)"
      ]
    }
  ],
  "metadata": {
    "kernelspec": {
      "display_name": "Python 3",
      "language": "python",
      "name": "python3"
    },
    "language_info": {
      "codemirror_mode": {
        "name": "ipython",
        "version": 3
      },
      "file_extension": ".py",
      "mimetype": "text/x-python",
      "name": "python",
      "nbconvert_exporter": "python",
      "pygments_lexer": "ipython3",
      "version": "3.12.8"
    },
    "colab": {
      "provenance": [],
      "include_colab_link": true
    }
  },
  "nbformat": 4,
  "nbformat_minor": 0
}